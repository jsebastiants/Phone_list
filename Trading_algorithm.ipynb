{
  "nbformat": 4,
  "nbformat_minor": 0,
  "metadata": {
    "colab": {
      "name": "Trading_algorithm.ipynb",
      "provenance": [],
      "collapsed_sections": [],
      "authorship_tag": "ABX9TyMobB1Ot2c4L8TfAOmykISj",
      "include_colab_link": true
    },
    "kernelspec": {
      "name": "python3",
      "display_name": "Python 3"
    },
    "language_info": {
      "name": "python"
    }
  },
  "cells": [
    {
      "cell_type": "markdown",
      "metadata": {
        "id": "view-in-github",
        "colab_type": "text"
      },
      "source": [
        "<a href=\"https://colab.research.google.com/github/jsebastiants/Phone_list/blob/master/Trading_algorithm.ipynb\" target=\"_parent\"><img src=\"https://colab.research.google.com/assets/colab-badge.svg\" alt=\"Open In Colab\"/></a>"
      ]
    },
    {
      "cell_type": "code",
      "metadata": {
        "colab": {
          "base_uri": "https://localhost:8080/"
        },
        "id": "cfhDufaZ-VW5",
        "outputId": "9eb15011-543d-4c65-c10e-dd842df0f6b2"
      },
      "source": [
        "from google.colab import drive\n",
        "drive.mount('/content/drive')"
      ],
      "execution_count": null,
      "outputs": [
        {
          "output_type": "stream",
          "text": [
            "Mounted at /content/drive\n"
          ],
          "name": "stdout"
        }
      ]
    },
    {
      "cell_type": "code",
      "metadata": {
        "id": "_xI_wiG1-e34"
      },
      "source": [
        "import numpy as np\n",
        "import pandas as pd \n",
        "import matplotlib.pyplot as plt\n"
      ],
      "execution_count": null,
      "outputs": []
    },
    {
      "cell_type": "code",
      "metadata": {
        "colab": {
          "base_uri": "https://localhost:8080/",
          "height": 206
        },
        "id": "xHFaQ19O-uRP",
        "outputId": "42e83174-20ae-4e83-99b1-c92e516c0545"
      },
      "source": [
        "data = pd.read_csv('/content/drive/MyDrive/BTC-USD.csv')\n",
        "data.head()"
      ],
      "execution_count": null,
      "outputs": [
        {
          "output_type": "execute_result",
          "data": {
            "text/html": [
              "<div>\n",
              "<style scoped>\n",
              "    .dataframe tbody tr th:only-of-type {\n",
              "        vertical-align: middle;\n",
              "    }\n",
              "\n",
              "    .dataframe tbody tr th {\n",
              "        vertical-align: top;\n",
              "    }\n",
              "\n",
              "    .dataframe thead th {\n",
              "        text-align: right;\n",
              "    }\n",
              "</style>\n",
              "<table border=\"1\" class=\"dataframe\">\n",
              "  <thead>\n",
              "    <tr style=\"text-align: right;\">\n",
              "      <th></th>\n",
              "      <th>Date</th>\n",
              "      <th>Open</th>\n",
              "      <th>High</th>\n",
              "      <th>Low</th>\n",
              "      <th>Close</th>\n",
              "      <th>Adj Close</th>\n",
              "      <th>Volume</th>\n",
              "    </tr>\n",
              "  </thead>\n",
              "  <tbody>\n",
              "    <tr>\n",
              "      <th>0</th>\n",
              "      <td>2017-07-06</td>\n",
              "      <td>2608.100098</td>\n",
              "      <td>2616.719971</td>\n",
              "      <td>2581.689941</td>\n",
              "      <td>2608.560059</td>\n",
              "      <td>2608.560059</td>\n",
              "      <td>7.619570e+08</td>\n",
              "    </tr>\n",
              "    <tr>\n",
              "      <th>1</th>\n",
              "      <td>2017-07-07</td>\n",
              "      <td>2608.590088</td>\n",
              "      <td>2916.139893</td>\n",
              "      <td>2498.870117</td>\n",
              "      <td>2518.659912</td>\n",
              "      <td>2518.659912</td>\n",
              "      <td>9.174120e+08</td>\n",
              "    </tr>\n",
              "    <tr>\n",
              "      <th>2</th>\n",
              "      <td>2017-07-08</td>\n",
              "      <td>2520.270020</td>\n",
              "      <td>2571.340088</td>\n",
              "      <td>2492.310059</td>\n",
              "      <td>2571.340088</td>\n",
              "      <td>2571.340088</td>\n",
              "      <td>7.333300e+08</td>\n",
              "    </tr>\n",
              "    <tr>\n",
              "      <th>3</th>\n",
              "      <td>2017-07-09</td>\n",
              "      <td>2572.610107</td>\n",
              "      <td>2635.489990</td>\n",
              "      <td>2517.590088</td>\n",
              "      <td>2518.439941</td>\n",
              "      <td>2518.439941</td>\n",
              "      <td>5.278560e+08</td>\n",
              "    </tr>\n",
              "    <tr>\n",
              "      <th>4</th>\n",
              "      <td>2017-07-10</td>\n",
              "      <td>2525.250000</td>\n",
              "      <td>2537.159912</td>\n",
              "      <td>2321.129883</td>\n",
              "      <td>2372.560059</td>\n",
              "      <td>2372.560059</td>\n",
              "      <td>1.111200e+09</td>\n",
              "    </tr>\n",
              "  </tbody>\n",
              "</table>\n",
              "</div>"
            ],
            "text/plain": [
              "         Date         Open         High  ...        Close    Adj Close        Volume\n",
              "0  2017-07-06  2608.100098  2616.719971  ...  2608.560059  2608.560059  7.619570e+08\n",
              "1  2017-07-07  2608.590088  2916.139893  ...  2518.659912  2518.659912  9.174120e+08\n",
              "2  2017-07-08  2520.270020  2571.340088  ...  2571.340088  2571.340088  7.333300e+08\n",
              "3  2017-07-09  2572.610107  2635.489990  ...  2518.439941  2518.439941  5.278560e+08\n",
              "4  2017-07-10  2525.250000  2537.159912  ...  2372.560059  2372.560059  1.111200e+09\n",
              "\n",
              "[5 rows x 7 columns]"
            ]
          },
          "metadata": {
            "tags": []
          },
          "execution_count": 7
        }
      ]
    },
    {
      "cell_type": "code",
      "metadata": {
        "colab": {
          "base_uri": "https://localhost:8080/"
        },
        "id": "1lYfq81P_h7l",
        "outputId": "1c480e36-b0ab-4fda-f0a0-c130497cdba9"
      },
      "source": [
        "type(data)"
      ],
      "execution_count": null,
      "outputs": [
        {
          "output_type": "execute_result",
          "data": {
            "text/plain": [
              "pandas.core.frame.DataFrame"
            ]
          },
          "metadata": {
            "tags": []
          },
          "execution_count": 8
        }
      ]
    },
    {
      "cell_type": "code",
      "metadata": {
        "colab": {
          "base_uri": "https://localhost:8080/",
          "height": 350
        },
        "id": "VZ-n-M9l_jiM",
        "outputId": "0d49c233-c1fd-4c0e-e7b0-41ad7d4c2e63"
      },
      "source": [
        "plt.figure(figsize=(10,5))\n",
        "plt.plot(data['Close'], label='BTC stock')\n",
        "plt.title('BTC STOCK 2017-2021')\n",
        "plt.xlabel('6 jul. 2017 - 6 jul. 2021')\n",
        "plt.ylabel('Precio de cierre (USD)')\n",
        "plt.legend('BTC-USD')\n",
        "plt.show()"
      ],
      "execution_count": null,
      "outputs": [
        {
          "output_type": "display_data",
          "data": {
            "image/png": "[encoded data removed]",
            "text/plain": [
              "<Figure size 720x360 with 1 Axes>"
            ]
          },
          "metadata": {
            "tags": [],
            "needs_background": "light"
          }
        }
      ]
    },
    {
      "cell_type": "code",
      "metadata": {
        "colab": {
          "base_uri": "https://localhost:8080/",
          "height": 424
        },
        "id": "p2mfU_HdAFHE",
        "outputId": "c019dc9c-46e6-44e7-a38e-d04e3ac08e25"
      },
      "source": [
        "MVS30 = pd.DataFrame()\n",
        "MVS30['Close'] = data['Close'].rolling(window=30).mean()\n",
        "MVS30"
      ],
      "execution_count": null,
      "outputs": [
        {
          "output_type": "execute_result",
          "data": {
            "text/html": [
              "<div>\n",
              "<style scoped>\n",
              "    .dataframe tbody tr th:only-of-type {\n",
              "        vertical-align: middle;\n",
              "    }\n",
              "\n",
              "    .dataframe tbody tr th {\n",
              "        vertical-align: top;\n",
              "    }\n",
              "\n",
              "    .dataframe thead th {\n",
              "        text-align: right;\n",
              "    }\n",
              "</style>\n",
              "<table border=\"1\" class=\"dataframe\">\n",
              "  <thead>\n",
              "    <tr style=\"text-align: right;\">\n",
              "      <th></th>\n",
              "      <th>Close</th>\n",
              "    </tr>\n",
              "  </thead>\n",
              "  <tbody>\n",
              "    <tr>\n",
              "      <th>0</th>\n",
              "      <td>NaN</td>\n",
              "    </tr>\n",
              "    <tr>\n",
              "      <th>1</th>\n",
              "      <td>NaN</td>\n",
              "    </tr>\n",
              "    <tr>\n",
              "      <th>2</th>\n",
              "      <td>NaN</td>\n",
              "    </tr>\n",
              "    <tr>\n",
              "      <th>3</th>\n",
              "      <td>NaN</td>\n",
              "    </tr>\n",
              "    <tr>\n",
              "      <th>4</th>\n",
              "      <td>NaN</td>\n",
              "    </tr>\n",
              "    <tr>\n",
              "      <th>...</th>\n",
              "      <td>...</td>\n",
              "    </tr>\n",
              "    <tr>\n",
              "      <th>1457</th>\n",
              "      <td>35618.789974</td>\n",
              "    </tr>\n",
              "    <tr>\n",
              "      <th>1458</th>\n",
              "      <td>35467.449349</td>\n",
              "    </tr>\n",
              "    <tr>\n",
              "      <th>1459</th>\n",
              "      <td>35413.895182</td>\n",
              "    </tr>\n",
              "    <tr>\n",
              "      <th>1460</th>\n",
              "      <td>35353.696745</td>\n",
              "    </tr>\n",
              "    <tr>\n",
              "      <th>1461</th>\n",
              "      <td>35290.867057</td>\n",
              "    </tr>\n",
              "  </tbody>\n",
              "</table>\n",
              "<p>1462 rows × 1 columns</p>\n",
              "</div>"
            ],
            "text/plain": [
              "             Close\n",
              "0              NaN\n",
              "1              NaN\n",
              "2              NaN\n",
              "3              NaN\n",
              "4              NaN\n",
              "...            ...\n",
              "1457  35618.789974\n",
              "1458  35467.449349\n",
              "1459  35413.895182\n",
              "1460  35353.696745\n",
              "1461  35290.867057\n",
              "\n",
              "[1462 rows x 1 columns]"
            ]
          },
          "metadata": {
            "tags": []
          },
          "execution_count": 16
        }
      ]
    },
    {
      "cell_type": "code",
      "metadata": {
        "colab": {
          "base_uri": "https://localhost:8080/",
          "height": 424
        },
        "id": "yA45iBpmDZOc",
        "outputId": "41b4abef-fec5-4981-a1fb-d388c41a35ab"
      },
      "source": [
        "MVS100 = pd.DataFrame()\n",
        "MVS100['Close'] = data['Close'].rolling(window=100).mean()\n",
        "MVS100"
      ],
      "execution_count": null,
      "outputs": [
        {
          "output_type": "execute_result",
          "data": {
            "text/html": [
              "<div>\n",
              "<style scoped>\n",
              "    .dataframe tbody tr th:only-of-type {\n",
              "        vertical-align: middle;\n",
              "    }\n",
              "\n",
              "    .dataframe tbody tr th {\n",
              "        vertical-align: top;\n",
              "    }\n",
              "\n",
              "    .dataframe thead th {\n",
              "        text-align: right;\n",
              "    }\n",
              "</style>\n",
              "<table border=\"1\" class=\"dataframe\">\n",
              "  <thead>\n",
              "    <tr style=\"text-align: right;\">\n",
              "      <th></th>\n",
              "      <th>Close</th>\n",
              "    </tr>\n",
              "  </thead>\n",
              "  <tbody>\n",
              "    <tr>\n",
              "      <th>0</th>\n",
              "      <td>NaN</td>\n",
              "    </tr>\n",
              "    <tr>\n",
              "      <th>1</th>\n",
              "      <td>NaN</td>\n",
              "    </tr>\n",
              "    <tr>\n",
              "      <th>2</th>\n",
              "      <td>NaN</td>\n",
              "    </tr>\n",
              "    <tr>\n",
              "      <th>3</th>\n",
              "      <td>NaN</td>\n",
              "    </tr>\n",
              "    <tr>\n",
              "      <th>4</th>\n",
              "      <td>NaN</td>\n",
              "    </tr>\n",
              "    <tr>\n",
              "      <th>...</th>\n",
              "      <td>...</td>\n",
              "    </tr>\n",
              "    <tr>\n",
              "      <th>1457</th>\n",
              "      <td>46931.197461</td>\n",
              "    </tr>\n",
              "    <tr>\n",
              "      <th>1458</th>\n",
              "      <td>46760.841328</td>\n",
              "    </tr>\n",
              "    <tr>\n",
              "      <th>1459</th>\n",
              "      <td>46562.346016</td>\n",
              "    </tr>\n",
              "    <tr>\n",
              "      <th>1460</th>\n",
              "      <td>46340.070938</td>\n",
              "    </tr>\n",
              "    <tr>\n",
              "      <th>1461</th>\n",
              "      <td>46120.338359</td>\n",
              "    </tr>\n",
              "  </tbody>\n",
              "</table>\n",
              "<p>1462 rows × 1 columns</p>\n",
              "</div>"
            ],
            "text/plain": [
              "             Close\n",
              "0              NaN\n",
              "1              NaN\n",
              "2              NaN\n",
              "3              NaN\n",
              "4              NaN\n",
              "...            ...\n",
              "1457  46931.197461\n",
              "1458  46760.841328\n",
              "1459  46562.346016\n",
              "1460  46340.070938\n",
              "1461  46120.338359\n",
              "\n",
              "[1462 rows x 1 columns]"
            ]
          },
          "metadata": {
            "tags": []
          },
          "execution_count": 17
        }
      ]
    },
    {
      "cell_type": "code",
      "metadata": {
        "colab": {
          "base_uri": "https://localhost:8080/",
          "height": 350
        },
        "id": "LYPxvzmRD_SA",
        "outputId": "71a8a7f5-c61d-4b58-e1de-cbfe1574a7d7"
      },
      "source": [
        "plt.figure(figsize=(10,5))\n",
        "plt.plot(data['Close'], label='BTC stock')\n",
        "plt.plot(MVS30['Close'], label='Media movil 30')\n",
        "plt.plot(MVS100['Close'], label='Media movil 100')\n",
        "plt.title('BTC STOCK 2017-2021')\n",
        "plt.xlabel('6 jul. 2017 - 6 jul. 2021')\n",
        "plt.ylabel('Precio de cierre (USD)')\n",
        "plt.legend(loc = 'upper left')\n",
        "plt.show()"
      ],
      "execution_count": null,
      "outputs": [
        {
          "output_type": "display_data",
          "data": {
            "image/png": "[encoded data removed]",
            "text/plain": [
              "<Figure size 720x360 with 1 Axes>"
            ]
          },
          "metadata": {
            "tags": [],
            "needs_background": "light"
          }
        }
      ]
    },
    {
      "cell_type": "code",
      "metadata": {
        "colab": {
          "base_uri": "https://localhost:8080/",
          "height": 424
        },
        "id": "Mi56IxqA8m8p",
        "outputId": "f0b4f169-2ee7-49ba-8200-569785608beb"
      },
      "source": [
        "datos = pd.DataFrame()\n",
        "datos['BTC'] = data['Close']\n",
        "datos['MVS30'] = MVS30['Close']\n",
        "datos['MVS100'] = MVS100['Close']\n",
        "datos"
      ],
      "execution_count": null,
      "outputs": [
        {
          "output_type": "execute_result",
          "data": {
            "text/html": [
              "<div>\n",
              "<style scoped>\n",
              "    .dataframe tbody tr th:only-of-type {\n",
              "        vertical-align: middle;\n",
              "    }\n",
              "\n",
              "    .dataframe tbody tr th {\n",
              "        vertical-align: top;\n",
              "    }\n",
              "\n",
              "    .dataframe thead th {\n",
              "        text-align: right;\n",
              "    }\n",
              "</style>\n",
              "<table border=\"1\" class=\"dataframe\">\n",
              "  <thead>\n",
              "    <tr style=\"text-align: right;\">\n",
              "      <th></th>\n",
              "      <th>BTC</th>\n",
              "      <th>MVS30</th>\n",
              "      <th>MVS100</th>\n",
              "    </tr>\n",
              "  </thead>\n",
              "  <tbody>\n",
              "    <tr>\n",
              "      <th>0</th>\n",
              "      <td>2608.560059</td>\n",
              "      <td>NaN</td>\n",
              "      <td>NaN</td>\n",
              "    </tr>\n",
              "    <tr>\n",
              "      <th>1</th>\n",
              "      <td>2518.659912</td>\n",
              "      <td>NaN</td>\n",
              "      <td>NaN</td>\n",
              "    </tr>\n",
              "    <tr>\n",
              "      <th>2</th>\n",
              "      <td>2571.340088</td>\n",
              "      <td>NaN</td>\n",
              "      <td>NaN</td>\n",
              "    </tr>\n",
              "    <tr>\n",
              "      <th>3</th>\n",
              "      <td>2518.439941</td>\n",
              "      <td>NaN</td>\n",
              "      <td>NaN</td>\n",
              "    </tr>\n",
              "    <tr>\n",
              "      <th>4</th>\n",
              "      <td>2372.560059</td>\n",
              "      <td>NaN</td>\n",
              "      <td>NaN</td>\n",
              "    </tr>\n",
              "    <tr>\n",
              "      <th>...</th>\n",
              "      <td>...</td>\n",
              "      <td>...</td>\n",
              "      <td>...</td>\n",
              "    </tr>\n",
              "    <tr>\n",
              "      <th>1457</th>\n",
              "      <td>33897.046875</td>\n",
              "      <td>35618.789974</td>\n",
              "      <td>46931.197461</td>\n",
              "    </tr>\n",
              "    <tr>\n",
              "      <th>1458</th>\n",
              "      <td>34668.546875</td>\n",
              "      <td>35467.449349</td>\n",
              "      <td>46760.841328</td>\n",
              "    </tr>\n",
              "    <tr>\n",
              "      <th>1459</th>\n",
              "      <td>35287.781250</td>\n",
              "      <td>35413.895182</td>\n",
              "      <td>46562.346016</td>\n",
              "    </tr>\n",
              "    <tr>\n",
              "      <th>1460</th>\n",
              "      <td>33746.003906</td>\n",
              "      <td>35353.696745</td>\n",
              "      <td>46340.070938</td>\n",
              "    </tr>\n",
              "    <tr>\n",
              "      <th>1461</th>\n",
              "      <td>33977.488281</td>\n",
              "      <td>35290.867057</td>\n",
              "      <td>46120.338359</td>\n",
              "    </tr>\n",
              "  </tbody>\n",
              "</table>\n",
              "<p>1462 rows × 3 columns</p>\n",
              "</div>"
            ],
            "text/plain": [
              "               BTC         MVS30        MVS100\n",
              "0      2608.560059           NaN           NaN\n",
              "1      2518.659912           NaN           NaN\n",
              "2      2571.340088           NaN           NaN\n",
              "3      2518.439941           NaN           NaN\n",
              "4      2372.560059           NaN           NaN\n",
              "...            ...           ...           ...\n",
              "1457  33897.046875  35618.789974  46931.197461\n",
              "1458  34668.546875  35467.449349  46760.841328\n",
              "1459  35287.781250  35413.895182  46562.346016\n",
              "1460  33746.003906  35353.696745  46340.070938\n",
              "1461  33977.488281  35290.867057  46120.338359\n",
              "\n",
              "[1462 rows x 3 columns]"
            ]
          },
          "metadata": {
            "tags": []
          },
          "execution_count": 30
        }
      ]
    },
    {
      "cell_type": "code",
      "metadata": {
        "id": "A4lZ7SHT9MMO"
      },
      "source": [
        "def senal(datos):\n",
        "    compra = []\n",
        "    venta = []\n",
        "    condicion = 0\n",
        "    \n",
        "    for dia in range(len(datos)):\n",
        "        \n",
        "        if datos['MVS30'][dia] > datos['MVS100'][dia]:\n",
        "            if condicion != 1:\n",
        "                compra.append(datos['BTC'][dia])\n",
        "                venta.append(np.nan)\n",
        "                condicion = 1\n",
        "            else:\n",
        "                compra.append(np.nan)\n",
        "                venta.append(np.nan)\n",
        "            \n",
        "        elif datos['MVS30'][dia] < datos['MVS100'][dia]:\n",
        "            if condicion != -1:\n",
        "                venta.append(datos['BTC'][dia])\n",
        "                compra.append(np.nan)\n",
        "                condicion = -1\n",
        "            else:\n",
        "                compra.append(np.nan)\n",
        "                venta.append(np.nan)\n",
        "        else:\n",
        "            compra.append(np.nan)\n",
        "            venta.append(np.nan)\n",
        "            \n",
        "    return (compra, venta)"
      ],
      "execution_count": null,
      "outputs": []
    },
    {
      "cell_type": "code",
      "metadata": {
        "colab": {
          "base_uri": "https://localhost:8080/",
          "height": 419
        },
        "id": "-49yk6N9-6iT",
        "outputId": "def2fafb-8553-43f0-af1c-43ebda7e0788"
      },
      "source": [
        "senales = senal(datos)\n",
        "datos['Compra'] = senales[0]\n",
        "datos['Venta'] = senales[1]\n",
        "datos"
      ],
      "execution_count": null,
      "outputs": [
        {
          "output_type": "execute_result",
          "data": {
            "text/html": [
              "<div>\n",
              "<style scoped>\n",
              "    .dataframe tbody tr th:only-of-type {\n",
              "        vertical-align: middle;\n",
              "    }\n",
              "\n",
              "    .dataframe tbody tr th {\n",
              "        vertical-align: top;\n",
              "    }\n",
              "\n",
              "    .dataframe thead th {\n",
              "        text-align: right;\n",
              "    }\n",
              "</style>\n",
              "<table border=\"1\" class=\"dataframe\">\n",
              "  <thead>\n",
              "    <tr style=\"text-align: right;\">\n",
              "      <th></th>\n",
              "      <th>BTC</th>\n",
              "      <th>MVS30</th>\n",
              "      <th>MVS100</th>\n",
              "      <th>Compra</th>\n",
              "      <th>Venta</th>\n",
              "    </tr>\n",
              "  </thead>\n",
              "  <tbody>\n",
              "    <tr>\n",
              "      <th>0</th>\n",
              "      <td>2608.560059</td>\n",
              "      <td>NaN</td>\n",
              "      <td>NaN</td>\n",
              "      <td>NaN</td>\n",
              "      <td>NaN</td>\n",
              "    </tr>\n",
              "    <tr>\n",
              "      <th>1</th>\n",
              "      <td>2518.659912</td>\n",
              "      <td>NaN</td>\n",
              "      <td>NaN</td>\n",
              "      <td>NaN</td>\n",
              "      <td>NaN</td>\n",
              "    </tr>\n",
              "    <tr>\n",
              "      <th>2</th>\n",
              "      <td>2571.340088</td>\n",
              "      <td>NaN</td>\n",
              "      <td>NaN</td>\n",
              "      <td>NaN</td>\n",
              "      <td>NaN</td>\n",
              "    </tr>\n",
              "    <tr>\n",
              "      <th>3</th>\n",
              "      <td>2518.439941</td>\n",
              "      <td>NaN</td>\n",
              "      <td>NaN</td>\n",
              "      <td>NaN</td>\n",
              "      <td>NaN</td>\n",
              "    </tr>\n",
              "    <tr>\n",
              "      <th>4</th>\n",
              "      <td>2372.560059</td>\n",
              "      <td>NaN</td>\n",
              "      <td>NaN</td>\n",
              "      <td>NaN</td>\n",
              "      <td>NaN</td>\n",
              "    </tr>\n",
              "    <tr>\n",
              "      <th>...</th>\n",
              "      <td>...</td>\n",
              "      <td>...</td>\n",
              "      <td>...</td>\n",
              "      <td>...</td>\n",
              "      <td>...</td>\n",
              "    </tr>\n",
              "    <tr>\n",
              "      <th>1457</th>\n",
              "      <td>33897.046875</td>\n",
              "      <td>35618.789974</td>\n",
              "      <td>46931.197461</td>\n",
              "      <td>NaN</td>\n",
              "      <td>NaN</td>\n",
              "    </tr>\n",
              "    <tr>\n",
              "      <th>1458</th>\n",
              "      <td>34668.546875</td>\n",
              "      <td>35467.449349</td>\n",
              "      <td>46760.841328</td>\n",
              "      <td>NaN</td>\n",
              "      <td>NaN</td>\n",
              "    </tr>\n",
              "    <tr>\n",
              "      <th>1459</th>\n",
              "      <td>35287.781250</td>\n",
              "      <td>35413.895182</td>\n",
              "      <td>46562.346016</td>\n",
              "      <td>NaN</td>\n",
              "      <td>NaN</td>\n",
              "    </tr>\n",
              "    <tr>\n",
              "      <th>1460</th>\n",
              "      <td>33746.003906</td>\n",
              "      <td>35353.696745</td>\n",
              "      <td>46340.070938</td>\n",
              "      <td>NaN</td>\n",
              "      <td>NaN</td>\n",
              "    </tr>\n",
              "    <tr>\n",
              "      <th>1461</th>\n",
              "      <td>33977.488281</td>\n",
              "      <td>35290.867057</td>\n",
              "      <td>46120.338359</td>\n",
              "      <td>NaN</td>\n",
              "      <td>NaN</td>\n",
              "    </tr>\n",
              "  </tbody>\n",
              "</table>\n",
              "<p>1462 rows × 5 columns</p>\n",
              "</div>"
            ],
            "text/plain": [
              "               BTC         MVS30        MVS100  Compra  Venta\n",
              "0      2608.560059           NaN           NaN     NaN    NaN\n",
              "1      2518.659912           NaN           NaN     NaN    NaN\n",
              "2      2571.340088           NaN           NaN     NaN    NaN\n",
              "3      2518.439941           NaN           NaN     NaN    NaN\n",
              "4      2372.560059           NaN           NaN     NaN    NaN\n",
              "...            ...           ...           ...     ...    ...\n",
              "1457  33897.046875  35618.789974  46931.197461     NaN    NaN\n",
              "1458  34668.546875  35467.449349  46760.841328     NaN    NaN\n",
              "1459  35287.781250  35413.895182  46562.346016     NaN    NaN\n",
              "1460  33746.003906  35353.696745  46340.070938     NaN    NaN\n",
              "1461  33977.488281  35290.867057  46120.338359     NaN    NaN\n",
              "\n",
              "[1462 rows x 5 columns]"
            ]
          },
          "metadata": {
            "tags": []
          },
          "execution_count": 35
        }
      ]
    },
    {
      "cell_type": "code",
      "metadata": {
        "colab": {
          "base_uri": "https://localhost:8080/",
          "height": 350
        },
        "id": "6WuiKNWd_dgL",
        "outputId": "14a1c83b-3b0a-4134-9892-a4898495d1bf"
      },
      "source": [
        "plt.figure(figsize = (10, 5))\n",
        "plt.plot(datos['BTC'], label = 'BTC', alpha = 0.3)\n",
        "plt.plot(datos['MVS30'], label = 'MVS30', alpha = 0.3)\n",
        "plt.plot(datos['MVS100'], label = 'MVS100', alpha = 0.3)\n",
        "plt.scatter(datos.index, datos['Compra'], label = 'Precio de Compra', marker = '^', color = 'green')\n",
        "plt.scatter(datos.index, datos['Venta'], label = 'Precio de Venta', marker = 'v', color = 'red')\n",
        "plt.title('Acciones de BTC - Precio de sus acciones desde el 2017 - 2021')\n",
        "plt.xlabel('6 Jul. 2017 - 6 Jul. 2021')\n",
        "plt.ylabel('Precio de cierre ($)')\n",
        "plt.legend(loc = 'upper left')\n",
        "plt.show()"
      ],
      "execution_count": null,
      "outputs": [
        {
          "output_type": "display_data",
          "data": {
            "image/png": "[encoded data removed]",
            "text/plain": [
              "<Figure size 720x360 with 1 Axes>"
            ]
          },
          "metadata": {
            "tags": [],
            "needs_background": "light"
          }
        }
      ]
    }
  ]
}